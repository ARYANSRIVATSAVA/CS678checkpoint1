{
 "cells": [
  {
   "cell_type": "code",
   "execution_count": 668,
   "metadata": {},
   "outputs": [
    {
     "name": "stdout",
     "output_type": "stream",
     "text": [
      "[0]\n",
      "[1]\n",
      "[0.04620296]\n",
      "[0.99780641]\n",
      "\n",
      "input: this stupid motherfucker nigga has warned me to watch porn tonight \n",
      "\n",
      "result: this st*pid moth*rfucker nig*a has warned me to watch p*rn tonight\n"
     ]
    }
   ],
   "source": [
    "from profanity_check import predict, predict_prob\n",
    "import numpy\n",
    "\n",
    "print(predict(['This is a very good movie']))\n",
    "# [0]\n",
    "\n",
    "print(predict(['fuck you']))\n",
    "# [1]\n",
    "\n",
    "print(predict_prob(['returns the probability each string is offensive']))\n",
    "# [0.08686173]\n",
    "input = 'this stupid motherfucker nigga has warned me to watch porn tonight'\n",
    "c = input\n",
    "\n",
    "print(predict_prob(['go to hell, you scum']))\n",
    "# [0.7618861]\n",
    "i = 0\n",
    "o = []\n",
    "for word in range(len(c)):\n",
    "    if c[word] == ' ':\n",
    "       #print(c[i:word])\n",
    "       o.append(c[i:word])\n",
    "       i = word+1\n",
    "       #o.append(c[i:word])\n",
    "#print(c[i:len(c)])   \n",
    "o.append(c[i:len(c)])\n",
    "#print(o)\n",
    "\n",
    "sen = ''\n",
    "idx = 0\n",
    "for i in o:\n",
    "    x = i\n",
    "    y = predict_prob([i])\n",
    "    if y >= 0.7:\n",
    "        #print(len(x))\n",
    "        l = len(x)\n",
    "        a = numpy.random.randint(2,l)\n",
    "        #print(a)\n",
    "        #print(x[0:a-1]+ '*' + x[a:l])\n",
    "        i = x[0:a-1]+ '*' + x[a:l]\n",
    "\n",
    "    if idx == 1:\n",
    "        sen = sen+' '+i\n",
    "    if idx == 0:\n",
    "        sen = sen + i\n",
    "        idx += 1   \n",
    "print('\\ninput:', c,'\\n')\n",
    "print(\"result:\",sen) \n",
    "\n",
    "\n",
    "\n"
   ]
  },
  {
   "cell_type": "code",
   "execution_count": null,
   "metadata": {},
   "outputs": [],
   "source": []
  }
 ],
 "metadata": {
  "kernelspec": {
   "display_name": "Python 3",
   "language": "python",
   "name": "python3"
  },
  "language_info": {
   "codemirror_mode": {
    "name": "ipython",
    "version": 3
   },
   "file_extension": ".py",
   "mimetype": "text/x-python",
   "name": "python",
   "nbconvert_exporter": "python",
   "pygments_lexer": "ipython3",
   "version": "3.10.13"
  }
 },
 "nbformat": 4,
 "nbformat_minor": 2
}
